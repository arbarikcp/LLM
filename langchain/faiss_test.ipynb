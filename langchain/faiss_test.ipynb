{
 "cells": [
  {
   "cell_type": "code",
   "execution_count": 3,
   "metadata": {},
   "outputs": [
    {
     "name": "stdout",
     "output_type": "stream",
     "text": [
      "Defaulting to user installation because normal site-packages is not writeable\n",
      "Requirement already satisfied: faiss-cpu in /Users/bhakti/Library/Python/3.9/lib/python/site-packages (1.7.4)\n",
      "\u001b[33mWARNING: You are using pip version 21.2.4; however, version 24.0 is available.\n",
      "You should consider upgrading via the '/Library/Developer/CommandLineTools/usr/bin/python3 -m pip install --upgrade pip' command.\u001b[0m\n",
      "Defaulting to user installation because normal site-packages is not writeable\n",
      "Collecting numpy\n",
      "  Downloading numpy-1.26.4-cp39-cp39-macosx_11_0_arm64.whl (14.0 MB)\n",
      "\u001b[K     |████████████████████████████████| 14.0 MB 1.5 MB/s eta 0:00:01\n",
      "\u001b[?25hInstalling collected packages: numpy\n",
      "Successfully installed numpy-1.26.4\n",
      "\u001b[33mWARNING: You are using pip version 21.2.4; however, version 24.0 is available.\n",
      "You should consider upgrading via the '/Library/Developer/CommandLineTools/usr/bin/python3 -m pip install --upgrade pip' command.\u001b[0m\n"
     ]
    }
   ],
   "source": [
    "!pip3 install faiss-cpu\n",
    "!pip3 install numpy"
   ]
  },
  {
   "cell_type": "code",
   "execution_count": 5,
   "metadata": {},
   "outputs": [
    {
     "name": "stdout",
     "output_type": "stream",
     "text": [
      "Nearest neighbors of: [[0.5967393  0.7298591  0.15984279 0.00361402 0.7076963  0.81519777\n",
      "  0.0731685  0.1029852  0.97045755 0.944828   0.42340678 0.08482271\n",
      "  0.8446658  0.6387796  0.61793554 0.32553428 0.32494843 0.25885874\n",
      "  0.83911616 0.18523175 0.36504856 0.00706703 0.99295634 0.07487979\n",
      "  0.09101141 0.06212817 0.5831513  0.945419   0.6969356  0.7576436\n",
      "  0.9679021  0.08143596 0.0897043  0.28117576 0.96792966 0.16438627\n",
      "  0.99017036 0.7227468  0.07432161 0.3454147  0.2202609  0.416207\n",
      "  0.71092963 0.37341958 0.154338   0.17675015 0.18089758 0.8378522\n",
      "  0.8453443  0.6158554  0.50258553 0.6575495  0.03113797 0.27098092\n",
      "  0.0722556  0.7183886  0.34984156 0.01084219 0.53988665 0.9519523\n",
      "  0.7264422  0.90744054 0.7655537  0.3033536  0.08870605 0.5130855\n",
      "  0.87338495 0.6338863  0.6607009  0.36782274 0.16498417 0.01320377\n",
      "  0.70649785 0.40334928 0.37113225 0.15903443 0.46860778 0.9891519\n",
      "  0.5226554  0.18026648 0.81357926 0.39503458 0.65013707 0.59755546\n",
      "  0.8564876  0.15165184 0.39115366 0.74890536 0.6016507  0.12341474\n",
      "  0.84420526 0.6979295  0.33442256 0.8401046  0.6039823  0.5511335\n",
      "  0.37008518 0.46974516 0.7839159  0.19490524 0.00694465 0.26462123\n",
      "  0.32105216 0.84728986 0.8353071  0.9710575  0.10067715 0.20676507\n",
      "  0.7800518  0.4552643  0.9358078  0.11224514 0.6602003  0.7657511\n",
      "  0.6027833  0.21359833 0.94667    0.4641426  0.7784958  0.5291813\n",
      "  0.6768476  0.6073209  0.2895861  0.28979957 0.05680619 0.84297997\n",
      "  0.8627178  0.7631149 ]]\n",
      "Neighbor 1: Index 871, Distance 14.715815544128418\n",
      "Neighbor 2: Index 573, Distance 15.713480949401855\n",
      "Neighbor 3: Index 758, Distance 16.47562599182129\n",
      "Neighbor 4: Index 206, Distance 16.63300895690918\n",
      "Neighbor 5: Index 875, Distance 17.119524002075195\n"
     ]
    }
   ],
   "source": [
    "import faiss\n",
    "import numpy as np\n",
    "\n",
    "# Generate random data\n",
    "data = np.random.rand(1000, 128).astype('float32')\n",
    "\n",
    "# Create an index\n",
    "index = faiss.IndexFlatL2(128)\n",
    "\n",
    "# Add data to the index\n",
    "index.add(data)\n",
    "\n",
    "# Perform a similarity search\n",
    "query_vector = np.random.rand(1, 128).astype('float32')\n",
    "k = 5  # Number of nearest neighbors to retrieve\n",
    "distances, indices = index.search(query_vector, k)\n",
    "\n",
    "# Print the results\n",
    "print(\"Nearest neighbors of:\", query_vector)\n",
    "for i in range(k):\n",
    "    print(f\"Neighbor {i+1}: Index {indices[0][i]}, Distance {distances[0][i]}\")"
   ]
  }
 ],
 "metadata": {
  "kernelspec": {
   "display_name": "Python 3",
   "language": "python",
   "name": "python3"
  },
  "language_info": {
   "codemirror_mode": {
    "name": "ipython",
    "version": 3
   },
   "file_extension": ".py",
   "mimetype": "text/x-python",
   "name": "python",
   "nbconvert_exporter": "python",
   "pygments_lexer": "ipython3",
   "version": "3.9.6"
  }
 },
 "nbformat": 4,
 "nbformat_minor": 2
}
